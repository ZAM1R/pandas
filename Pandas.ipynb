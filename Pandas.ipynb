{
 "cells": [
  {
   "cell_type": "markdown",
   "id": "357c59f8",
   "metadata": {},
   "source": [
    "### Loading data into pandas "
   ]
  },
  {
   "cell_type": "code",
   "execution_count": 41,
   "id": "919bc94e",
   "metadata": {},
   "outputs": [
    {
     "name": "stdout",
     "output_type": "stream",
     "text": [
      "   #       Name Type 1  Type 2  HP  Attack  Defense  Sp. Atk  Sp. Def  Speed  \\\n",
      "0  1  Bulbasaur  Grass  Poison  45      49       49       65       65     45   \n",
      "1  2    Ivysaur  Grass  Poison  60      62       63       80       80     60   \n",
      "\n",
      "   Generation  Legendary  \n",
      "0           1      False  \n",
      "1           1      False  \n",
      "------------------------------\n",
      "       #       Name Type 1 Type 2  HP  Attack  Defense  Sp. Atk  Sp. Def  \\\n",
      "799  721  Volcanion   Fire  Water  80     110      120      130       90   \n",
      "\n",
      "     Speed  Generation  Legendary  \n",
      "799     70           6       True  \n"
     ]
    }
   ],
   "source": [
    "import pandas as pd\n",
    "\n",
    "df = pd.read_csv('DataSet/pokemon_data.csv')\n",
    "#df = pd.read_excel('DataSet/pokemon_data.xlsx')\n",
    "#df = pd.read_csv('DataSet/pokemon_data.txt', delimiter='\\t')\n",
    "\n",
    "print(df.head(2))\n",
    "print(\"------------------------------\")\n",
    "print(df.tail(1))"
   ]
  },
  {
   "cell_type": "markdown",
   "id": "03e64f9e",
   "metadata": {},
   "source": [
    "### Read data from df "
   ]
  },
  {
   "cell_type": "code",
   "execution_count": 40,
   "id": "6895fbb8",
   "metadata": {},
   "outputs": [
    {
     "name": "stdout",
     "output_type": "stream",
     "text": [
      "Index(['#', 'Name', 'Type 1', 'Type 2', 'HP', 'Attack', 'Defense', 'Sp. Atk',\n",
      "       'Sp. Def', 'Speed', 'Generation', 'Legendary'],\n",
      "      dtype='object')\n",
      "                    Name Type 1\n",
      "0              Bulbasaur  Grass\n",
      "1                Ivysaur  Grass\n",
      "2               Venusaur  Grass\n",
      "3  VenusaurMega Venusaur  Grass\n",
      "4             Charmander   Fire\n",
      "   #                   Name Type 1  Type 2  HP  Attack  Defense  Sp. Atk  \\\n",
      "0  1              Bulbasaur  Grass  Poison  45      49       49       65   \n",
      "1  2                Ivysaur  Grass  Poison  60      62       63       80   \n",
      "2  3               Venusaur  Grass  Poison  80      82       83      100   \n",
      "3  3  VenusaurMega Venusaur  Grass  Poison  80     100      123      122   \n",
      "\n",
      "   Sp. Def  Speed  Generation  Legendary  \n",
      "0       65     45           1      False  \n",
      "1       80     60           1      False  \n",
      "2      100     80           1      False  \n",
      "3      120     80           1      False  \n",
      "Venusaur\n"
     ]
    }
   ],
   "source": [
    "# read columns\n",
    "print(df.columns)\n",
    "\n",
    "#read specific columns\n",
    "#print(df.Name[0:3])\n",
    "#print(df['Type 1'][0:3])\n",
    "print(df[['Name','Type 1']][0:5])\n",
    "\n",
    "#print each rows\n",
    "print(df.iloc[0:4])\n",
    "\n",
    "#read specific location\n",
    "print(df.iloc[2,1])\n",
    "\n"
   ]
  },
  {
   "cell_type": "code",
   "execution_count": null,
   "id": "945486e5",
   "metadata": {},
   "outputs": [],
   "source": []
  },
  {
   "cell_type": "code",
   "execution_count": null,
   "id": "ff6b5176",
   "metadata": {},
   "outputs": [],
   "source": []
  }
 ],
 "metadata": {
  "kernelspec": {
   "display_name": "Python 3 (ipykernel)",
   "language": "python",
   "name": "python3"
  },
  "language_info": {
   "codemirror_mode": {
    "name": "ipython",
    "version": 3
   },
   "file_extension": ".py",
   "mimetype": "text/x-python",
   "name": "python",
   "nbconvert_exporter": "python",
   "pygments_lexer": "ipython3",
   "version": "3.10.5"
  }
 },
 "nbformat": 4,
 "nbformat_minor": 5
}
